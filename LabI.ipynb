{
 "cells": [
  {
   "cell_type": "markdown",
   "metadata": {},
   "source": [
    "<center><h1>Time series analysis</h1></center>\n",
    "<center><h2>Laboratorio I</h2></center>"
   ]
  },
  {
   "cell_type": "code",
   "execution_count": 1,
   "metadata": {},
   "outputs": [],
   "source": [
    "# Packages\n",
    "import numpy as np\n",
    "from scipy import stats\n",
    "import pandas as pd\n",
    "import matplotlib.pyplot as plt\n",
    "import seaborn as sns\n",
    "import statsmodels.api as sm"
   ]
  },
  {
   "cell_type": "code",
   "execution_count": 2,
   "metadata": {},
   "outputs": [],
   "source": [
    "# Plot settings\n",
    "sns.set_context('notebook') \n",
    "sns.set_style('ticks')\n",
    "red='#D62728'\n",
    "blue='#1F77B4'\n",
    "%matplotlib inline"
   ]
  },
  {
   "cell_type": "code",
   "execution_count": 3,
   "metadata": {},
   "outputs": [],
   "source": [
    "plt.rcParams['figure.figsize'] = [15, 10]"
   ]
  },
  {
   "cell_type": "markdown",
   "metadata": {},
   "source": [
    "## Cargamos los datos"
   ]
  },
  {
   "cell_type": "code",
   "execution_count": 4,
   "metadata": {},
   "outputs": [
    {
     "data": {
      "text/html": [
       "<div>\n",
       "<style scoped>\n",
       "    .dataframe tbody tr th:only-of-type {\n",
       "        vertical-align: middle;\n",
       "    }\n",
       "\n",
       "    .dataframe tbody tr th {\n",
       "        vertical-align: top;\n",
       "    }\n",
       "\n",
       "    .dataframe thead th {\n",
       "        text-align: right;\n",
       "    }\n",
       "</style>\n",
       "<table border=\"1\" class=\"dataframe\">\n",
       "  <thead>\n",
       "    <tr style=\"text-align: right;\">\n",
       "      <th></th>\n",
       "      <th>Año</th>\n",
       "      <th>Trimestre</th>\n",
       "      <th>Minutos pospago salientes (miles)</th>\n",
       "      <th>Minutos prepago salientes (miles)</th>\n",
       "      <th>Total de minutos salientes (miles)</th>\n",
       "      <th>Periodo</th>\n",
       "    </tr>\n",
       "  </thead>\n",
       "  <tbody>\n",
       "    <tr>\n",
       "      <th>17</th>\n",
       "      <td>2017</td>\n",
       "      <td>2</td>\n",
       "      <td>15315167</td>\n",
       "      <td>6293563</td>\n",
       "      <td>21608730</td>\n",
       "      <td>Abr-Jun 2017</td>\n",
       "    </tr>\n",
       "    <tr>\n",
       "      <th>18</th>\n",
       "      <td>2017</td>\n",
       "      <td>3</td>\n",
       "      <td>15106275</td>\n",
       "      <td>6308373</td>\n",
       "      <td>21414647</td>\n",
       "      <td>Jul-Sept 2017</td>\n",
       "    </tr>\n",
       "    <tr>\n",
       "      <th>19</th>\n",
       "      <td>2017</td>\n",
       "      <td>4</td>\n",
       "      <td>14164552</td>\n",
       "      <td>5380710</td>\n",
       "      <td>19545262</td>\n",
       "      <td>Oct-Dic 2017</td>\n",
       "    </tr>\n",
       "    <tr>\n",
       "      <th>20</th>\n",
       "      <td>2018</td>\n",
       "      <td>1</td>\n",
       "      <td>13851254</td>\n",
       "      <td>5958717</td>\n",
       "      <td>19809971</td>\n",
       "      <td>Ene-Mar 2018</td>\n",
       "    </tr>\n",
       "    <tr>\n",
       "      <th>21</th>\n",
       "      <td>2018</td>\n",
       "      <td>2</td>\n",
       "      <td>14388755</td>\n",
       "      <td>6290155</td>\n",
       "      <td>20678910</td>\n",
       "      <td>Abr-Jun 2018</td>\n",
       "    </tr>\n",
       "  </tbody>\n",
       "</table>\n",
       "</div>"
      ],
      "text/plain": [
       "     Año  Trimestre  Minutos pospago salientes (miles)  \\\n",
       "17  2017          2                           15315167   \n",
       "18  2017          3                           15106275   \n",
       "19  2017          4                           14164552   \n",
       "20  2018          1                           13851254   \n",
       "21  2018          2                           14388755   \n",
       "\n",
       "    Minutos prepago salientes (miles)  Total de minutos salientes (miles)  \\\n",
       "17                            6293563                            21608730   \n",
       "18                            6308373                            21414647   \n",
       "19                            5380710                            19545262   \n",
       "20                            5958717                            19809971   \n",
       "21                            6290155                            20678910   \n",
       "\n",
       "          Periodo  \n",
       "17   Abr-Jun 2017  \n",
       "18  Jul-Sept 2017  \n",
       "19   Oct-Dic 2017  \n",
       "20   Ene-Mar 2018  \n",
       "21   Abr-Jun 2018  "
      ]
     },
     "execution_count": 4,
     "metadata": {},
     "output_type": "execute_result"
    }
   ],
   "source": [
    "movil=pd.read_csv('datasets/Telefonia_movil.csv', dayfirst=True, thousands='.')\n",
    "movil.tail()"
   ]
  },
  {
   "cell_type": "code",
   "execution_count": 5,
   "metadata": {},
   "outputs": [
    {
     "data": {
      "text/html": [
       "<div>\n",
       "<style scoped>\n",
       "    .dataframe tbody tr th:only-of-type {\n",
       "        vertical-align: middle;\n",
       "    }\n",
       "\n",
       "    .dataframe tbody tr th {\n",
       "        vertical-align: top;\n",
       "    }\n",
       "\n",
       "    .dataframe thead th {\n",
       "        text-align: right;\n",
       "    }\n",
       "</style>\n",
       "<table border=\"1\" class=\"dataframe\">\n",
       "  <thead>\n",
       "    <tr style=\"text-align: right;\">\n",
       "      <th></th>\n",
       "      <th>Año</th>\n",
       "      <th>Trimestre</th>\n",
       "      <th>Minutos pospago salientes (miles)</th>\n",
       "      <th>Minutos prepago salientes (miles)</th>\n",
       "      <th>Total de minutos salientes (miles)</th>\n",
       "      <th>Periodo</th>\n",
       "    </tr>\n",
       "  </thead>\n",
       "  <tbody>\n",
       "    <tr>\n",
       "      <th>2017Q2</th>\n",
       "      <td>2017</td>\n",
       "      <td>2</td>\n",
       "      <td>15315167</td>\n",
       "      <td>6293563</td>\n",
       "      <td>21608730</td>\n",
       "      <td>Abr-Jun 2017</td>\n",
       "    </tr>\n",
       "    <tr>\n",
       "      <th>2017Q3</th>\n",
       "      <td>2017</td>\n",
       "      <td>3</td>\n",
       "      <td>15106275</td>\n",
       "      <td>6308373</td>\n",
       "      <td>21414647</td>\n",
       "      <td>Jul-Sept 2017</td>\n",
       "    </tr>\n",
       "    <tr>\n",
       "      <th>2017Q4</th>\n",
       "      <td>2017</td>\n",
       "      <td>4</td>\n",
       "      <td>14164552</td>\n",
       "      <td>5380710</td>\n",
       "      <td>19545262</td>\n",
       "      <td>Oct-Dic 2017</td>\n",
       "    </tr>\n",
       "    <tr>\n",
       "      <th>2018Q1</th>\n",
       "      <td>2018</td>\n",
       "      <td>1</td>\n",
       "      <td>13851254</td>\n",
       "      <td>5958717</td>\n",
       "      <td>19809971</td>\n",
       "      <td>Ene-Mar 2018</td>\n",
       "    </tr>\n",
       "    <tr>\n",
       "      <th>2018Q2</th>\n",
       "      <td>2018</td>\n",
       "      <td>2</td>\n",
       "      <td>14388755</td>\n",
       "      <td>6290155</td>\n",
       "      <td>20678910</td>\n",
       "      <td>Abr-Jun 2018</td>\n",
       "    </tr>\n",
       "  </tbody>\n",
       "</table>\n",
       "</div>"
      ],
      "text/plain": [
       "         Año  Trimestre  Minutos pospago salientes (miles)  \\\n",
       "2017Q2  2017          2                           15315167   \n",
       "2017Q3  2017          3                           15106275   \n",
       "2017Q4  2017          4                           14164552   \n",
       "2018Q1  2018          1                           13851254   \n",
       "2018Q2  2018          2                           14388755   \n",
       "\n",
       "        Minutos prepago salientes (miles)  Total de minutos salientes (miles)  \\\n",
       "2017Q2                            6293563                            21608730   \n",
       "2017Q3                            6308373                            21414647   \n",
       "2017Q4                            5380710                            19545262   \n",
       "2018Q1                            5958717                            19809971   \n",
       "2018Q2                            6290155                            20678910   \n",
       "\n",
       "              Periodo  \n",
       "2017Q2   Abr-Jun 2017  \n",
       "2017Q3  Jul-Sept 2017  \n",
       "2017Q4   Oct-Dic 2017  \n",
       "2018Q1   Ene-Mar 2018  \n",
       "2018Q2   Abr-Jun 2018  "
      ]
     },
     "execution_count": 5,
     "metadata": {},
     "output_type": "execute_result"
    }
   ],
   "source": [
    "movil.index=pd.PeriodIndex(movil['Año'].astype(str) + 'Q' + movil['Trimestre'].astype(str),freq='Q')\n",
    "\n",
    "movil.tail()"
   ]
  },
  {
   "cell_type": "markdown",
   "metadata": {},
   "source": [
    "## Hacemos una exploración de los datos"
   ]
  },
  {
   "cell_type": "code",
   "execution_count": 6,
   "metadata": {},
   "outputs": [
    {
     "data": {
      "text/html": [
       "<div>\n",
       "<style scoped>\n",
       "    .dataframe tbody tr th:only-of-type {\n",
       "        vertical-align: middle;\n",
       "    }\n",
       "\n",
       "    .dataframe tbody tr th {\n",
       "        vertical-align: top;\n",
       "    }\n",
       "\n",
       "    .dataframe thead th {\n",
       "        text-align: right;\n",
       "    }\n",
       "</style>\n",
       "<table border=\"1\" class=\"dataframe\">\n",
       "  <thead>\n",
       "    <tr style=\"text-align: right;\">\n",
       "      <th></th>\n",
       "      <th>Año</th>\n",
       "      <th>Trimestre</th>\n",
       "      <th>Minutos pospago salientes (miles)</th>\n",
       "      <th>Minutos prepago salientes (miles)</th>\n",
       "      <th>Total de minutos salientes (miles)</th>\n",
       "    </tr>\n",
       "  </thead>\n",
       "  <tbody>\n",
       "    <tr>\n",
       "      <th>count</th>\n",
       "      <td>22.000000</td>\n",
       "      <td>22.000000</td>\n",
       "      <td>2.200000e+01</td>\n",
       "      <td>2.200000e+01</td>\n",
       "      <td>2.200000e+01</td>\n",
       "    </tr>\n",
       "    <tr>\n",
       "      <th>mean</th>\n",
       "      <td>2015.272727</td>\n",
       "      <td>2.409091</td>\n",
       "      <td>1.209691e+07</td>\n",
       "      <td>6.604273e+06</td>\n",
       "      <td>1.870118e+07</td>\n",
       "    </tr>\n",
       "    <tr>\n",
       "      <th>std</th>\n",
       "      <td>1.638287</td>\n",
       "      <td>1.140555</td>\n",
       "      <td>2.077349e+06</td>\n",
       "      <td>5.251805e+05</td>\n",
       "      <td>1.990543e+06</td>\n",
       "    </tr>\n",
       "    <tr>\n",
       "      <th>min</th>\n",
       "      <td>2013.000000</td>\n",
       "      <td>1.000000</td>\n",
       "      <td>8.785943e+06</td>\n",
       "      <td>5.380710e+06</td>\n",
       "      <td>1.536806e+07</td>\n",
       "    </tr>\n",
       "    <tr>\n",
       "      <th>25%</th>\n",
       "      <td>2014.000000</td>\n",
       "      <td>1.250000</td>\n",
       "      <td>1.044198e+07</td>\n",
       "      <td>6.291007e+06</td>\n",
       "      <td>1.735731e+07</td>\n",
       "    </tr>\n",
       "    <tr>\n",
       "      <th>50%</th>\n",
       "      <td>2015.000000</td>\n",
       "      <td>2.000000</td>\n",
       "      <td>1.164553e+07</td>\n",
       "      <td>6.580968e+06</td>\n",
       "      <td>1.883452e+07</td>\n",
       "    </tr>\n",
       "    <tr>\n",
       "      <th>75%</th>\n",
       "      <td>2016.750000</td>\n",
       "      <td>3.000000</td>\n",
       "      <td>1.408623e+07</td>\n",
       "      <td>7.100940e+06</td>\n",
       "      <td>1.974379e+07</td>\n",
       "    </tr>\n",
       "    <tr>\n",
       "      <th>max</th>\n",
       "      <td>2018.000000</td>\n",
       "      <td>4.000000</td>\n",
       "      <td>1.596076e+07</td>\n",
       "      <td>7.335154e+06</td>\n",
       "      <td>2.289966e+07</td>\n",
       "    </tr>\n",
       "  </tbody>\n",
       "</table>\n",
       "</div>"
      ],
      "text/plain": [
       "               Año  Trimestre  Minutos pospago salientes (miles)  \\\n",
       "count    22.000000  22.000000                       2.200000e+01   \n",
       "mean   2015.272727   2.409091                       1.209691e+07   \n",
       "std       1.638287   1.140555                       2.077349e+06   \n",
       "min    2013.000000   1.000000                       8.785943e+06   \n",
       "25%    2014.000000   1.250000                       1.044198e+07   \n",
       "50%    2015.000000   2.000000                       1.164553e+07   \n",
       "75%    2016.750000   3.000000                       1.408623e+07   \n",
       "max    2018.000000   4.000000                       1.596076e+07   \n",
       "\n",
       "       Minutos prepago salientes (miles)  Total de minutos salientes (miles)  \n",
       "count                       2.200000e+01                        2.200000e+01  \n",
       "mean                        6.604273e+06                        1.870118e+07  \n",
       "std                         5.251805e+05                        1.990543e+06  \n",
       "min                         5.380710e+06                        1.536806e+07  \n",
       "25%                         6.291007e+06                        1.735731e+07  \n",
       "50%                         6.580968e+06                        1.883452e+07  \n",
       "75%                         7.100940e+06                        1.974379e+07  \n",
       "max                         7.335154e+06                        2.289966e+07  "
      ]
     },
     "execution_count": 6,
     "metadata": {},
     "output_type": "execute_result"
    }
   ],
   "source": [
    "movil.describe()"
   ]
  },
  {
   "cell_type": "markdown",
   "metadata": {},
   "source": [
    "### Dibujamos la serie de tiempo, eligiendo la columna Total de minutos salientes"
   ]
  },
  {
   "cell_type": "code",
   "execution_count": 7,
   "metadata": {},
   "outputs": [],
   "source": [
    "y=movil['Total de minutos salientes (miles)']"
   ]
  },
  {
   "cell_type": "code",
   "execution_count": 8,
   "metadata": {},
   "outputs": [
    {
     "data": {
      "image/png": "[encoded data removed]",
      "text/plain": [
       "<Figure size 576x360 with 1 Axes>"
      ]
     },
     "metadata": {
      "needs_background": "light"
     },
     "output_type": "display_data"
    }
   ],
   "source": [
    "fig, ax= plt.subplots(figsize=(8,5))\n",
    "y.plot(color=red)\n",
    "ax.set_xlabel('')\n",
    "ax.set_ylabel('Total de Minutos')\n",
    "ax.set_title('Telefonía Movil')\n",
    "ax.set_xticks([], minor=True) # I prefer to remove the minor ticks for a cleaner plot\n",
    "sns.despine()\n",
    "plt.show()"
   ]
  },
  {
   "cell_type": "code",
   "execution_count": 9,
   "metadata": {},
   "outputs": [
    {
     "data": {
      "text/plain": [
       "count          22.00\n",
       "mean     18701180.05\n",
       "std       1990542.72\n",
       "min      15368060.00\n",
       "25%      17357310.00\n",
       "50%      18834516.00\n",
       "75%      19743793.75\n",
       "max      22899656.00\n",
       "Name: Total de minutos salientes (miles), dtype: float64"
      ]
     },
     "execution_count": 9,
     "metadata": {},
     "output_type": "execute_result"
    }
   ],
   "source": [
    "y.describe().round(2)"
   ]
  },
  {
   "cell_type": "code",
   "execution_count": 10,
   "metadata": {},
   "outputs": [],
   "source": [
    "y=movil['Total de minutos salientes (miles)']"
   ]
  },
  {
   "cell_type": "markdown",
   "metadata": {},
   "source": [
    "## Random walk"
   ]
  },
  {
   "cell_type": "markdown",
   "metadata": {},
   "source": [
    "Aplicamos Random walk, para predecir 4 trimestres "
   ]
  },
  {
   "cell_type": "code",
   "execution_count": 11,
   "metadata": {},
   "outputs": [
    {
     "data": {
      "text/plain": [
       "2018Q3    20678910\n",
       "2018Q4    20678910\n",
       "2019Q1    20678910\n",
       "2019Q2    20678910\n",
       "Freq: Q-DEC, dtype: int64"
      ]
     },
     "execution_count": 11,
     "metadata": {},
     "output_type": "execute_result"
    }
   ],
   "source": [
    "h = 4\n",
    "test=pd.period_range(start=y.index[-1]+1, periods=h, freq='Q')\n",
    "pred=pd.Series(np.repeat(y.iloc[-1], h), index=test) # the forecast repeats the last observed values h times\n",
    "pred"
   ]
  },
  {
   "cell_type": "markdown",
   "metadata": {},
   "source": [
    "Estimamos la desviación estandar de los erroes"
   ]
  },
  {
   "cell_type": "code",
   "execution_count": 12,
   "metadata": {},
   "outputs": [
    {
     "data": {
      "text/plain": [
       "1464911.401"
      ]
     },
     "execution_count": 12,
     "metadata": {},
     "output_type": "execute_result"
    }
   ],
   "source": [
    "resid=y-y.shift(1) # the shift lags the series by one period\n",
    "sigma = resid.std()\n",
    "round(sigma,3)"
   ]
  },
  {
   "cell_type": "markdown",
   "metadata": {},
   "source": [
    "Las predicciones de los intervalos son:"
   ]
  },
  {
   "cell_type": "code",
   "execution_count": 13,
   "metadata": {},
   "outputs": [
    {
     "data": {
      "text/html": [
       "<div>\n",
       "<style scoped>\n",
       "    .dataframe tbody tr th:only-of-type {\n",
       "        vertical-align: middle;\n",
       "    }\n",
       "\n",
       "    .dataframe tbody tr th {\n",
       "        vertical-align: top;\n",
       "    }\n",
       "\n",
       "    .dataframe thead th {\n",
       "        text-align: right;\n",
       "    }\n",
       "</style>\n",
       "<table border=\"1\" class=\"dataframe\">\n",
       "  <thead>\n",
       "    <tr style=\"text-align: right;\">\n",
       "      <th></th>\n",
       "      <th>0</th>\n",
       "      <th>1</th>\n",
       "    </tr>\n",
       "  </thead>\n",
       "  <tbody>\n",
       "    <tr>\n",
       "      <th>2018Q3</th>\n",
       "      <td>1.780774e+07</td>\n",
       "      <td>2.355008e+07</td>\n",
       "    </tr>\n",
       "    <tr>\n",
       "      <th>2018Q4</th>\n",
       "      <td>1.661846e+07</td>\n",
       "      <td>2.473936e+07</td>\n",
       "    </tr>\n",
       "    <tr>\n",
       "      <th>2019Q1</th>\n",
       "      <td>1.570589e+07</td>\n",
       "      <td>2.565193e+07</td>\n",
       "    </tr>\n",
       "    <tr>\n",
       "      <th>2019Q2</th>\n",
       "      <td>1.493656e+07</td>\n",
       "      <td>2.642126e+07</td>\n",
       "    </tr>\n",
       "  </tbody>\n",
       "</table>\n",
       "</div>"
      ],
      "text/plain": [
       "                   0             1\n",
       "2018Q3  1.780774e+07  2.355008e+07\n",
       "2018Q4  1.661846e+07  2.473936e+07\n",
       "2019Q1  1.570589e+07  2.565193e+07\n",
       "2019Q2  1.493656e+07  2.642126e+07"
      ]
     },
     "execution_count": 13,
     "metadata": {},
     "output_type": "execute_result"
    }
   ],
   "source": [
    "intv = pd.concat([pred-stats.norm.ppf(0.975)*sigma*np.sqrt(np.arange(1,h+1)),\n",
    "                   pred+stats.norm.ppf(0.975)*sigma*np.sqrt(np.arange(1,h+1))], axis=1)\n",
    "intv.round(3)"
   ]
  },
  {
   "cell_type": "code",
   "execution_count": 14,
   "metadata": {},
   "outputs": [
    {
     "data": {
      "image/png": "[encoded data removed]",
      "text/plain": [
       "<Figure size 576x360 with 1 Axes>"
      ]
     },
     "metadata": {},
     "output_type": "display_data"
    }
   ],
   "source": [
    "from plotting import fanchart\n",
    "\n",
    "point_pred = (intv[0]+intv[1])/2\n",
    "\n",
    "fig, ax = fanchart(y['2010':],point_pred,intv,intv,intv)\n",
    "\n",
    "plt.show()"
   ]
  },
  {
   "cell_type": "markdown",
   "metadata": {},
   "source": [
    "## Simple exponential smoothing"
   ]
  },
  {
   "cell_type": "markdown",
   "metadata": {},
   "source": [
    "Verificamos la versión del paquete statsmodels"
   ]
  },
  {
   "cell_type": "code",
   "execution_count": 15,
   "metadata": {},
   "outputs": [
    {
     "data": {
      "text/plain": [
       "'0.9.0'"
      ]
     },
     "execution_count": 15,
     "metadata": {},
     "output_type": "execute_result"
    }
   ],
   "source": [
    "import statsmodels\n",
    "statsmodels.__version__"
   ]
  },
  {
   "cell_type": "markdown",
   "metadata": {},
   "source": [
    "Aplicamos Simple exponential smoothing"
   ]
  },
  {
   "cell_type": "code",
   "execution_count": 16,
   "metadata": {},
   "outputs": [
    {
     "name": "stdout",
     "output_type": "stream",
     "text": [
      " Smoothing parameter: alpha  0.551\n",
      " In-sample fit:\n",
      " MSE               1845518897434.550\n",
      " AIC               625.363\n",
      " BIC               627.545\n"
     ]
    }
   ],
   "source": [
    "model_ses = sm.tsa.SimpleExpSmoothing(y).fit()\n",
    "fitted_ses = model_ses.fittedvalues\n",
    "# model_ses.summary() # summary isn't implemented in 0.9, looks it'll be avaible in 0.10\n",
    "alpha_ses = model_ses.model.params['smoothing_level']\n",
    "mse_ses = sm.tools.eval_measures.mse(y,fitted_ses)\n",
    "# loglik_ses = model_ses.model.loglike(model_ses.model.params) # NotImplementedError\n",
    "aic_ses = model_ses.aic\n",
    "bic_ses = model_ses.bic\n",
    "print(' Smoothing parameter: alpha  {0:.3f}'.format(alpha_ses))\n",
    "print(' In-sample fit:')\n",
    "print(' MSE               {0:.3f}'.format(mse_ses))\n",
    "print(' AIC               {0:.3f}'.format(aic_ses))\n",
    "print(' BIC               {0:.3f}'.format(bic_ses))\n"
   ]
  },
  {
   "cell_type": "markdown",
   "metadata": {},
   "source": [
    "Also AIC and BIC looks off so we are continue our analysis with MSE. Also they are fixed in 0.10. In the case you need them, you can calculate them as it follows"
   ]
  },
  {
   "cell_type": "code",
   "execution_count": 17,
   "metadata": {},
   "outputs": [
    {
     "name": "stdout",
     "output_type": "stream",
     "text": [
      " Log-likelihood    -341.898\n",
      " AIC               689.796\n",
      " BIC               693.070\n"
     ]
    }
   ],
   "source": [
    "N = len(y)\n",
    "loglik_ses=-(N/2)*(1+np.log(2*np.pi))-(N/2)*np.log(mse_ses)\n",
    "aic_ses=-2*loglik_ses+2*3\n",
    "bic_ses=-2*loglik_ses+np.log(N)*3\n",
    "print(' Log-likelihood    %.3f' % (loglik_ses))\n",
    "print(' AIC               {0:.3f}'.format(aic_ses))\n",
    "print(' BIC               {0:.3f}'.format(bic_ses))"
   ]
  },
  {
   "cell_type": "markdown",
   "metadata": {},
   "source": [
    "Ahora, vemos como los datos suavizados se ajustan a los datos originales"
   ]
  },
  {
   "cell_type": "code",
   "execution_count": 18,
   "metadata": {},
   "outputs": [
    {
     "data": {
      "image/png": "[encoded data removed]",
      "text/plain": [
       "<Figure size 1080x720 with 1 Axes>"
      ]
     },
     "metadata": {
      "needs_background": "light"
     },
     "output_type": "display_data"
    }
   ],
   "source": [
    "fig, ax= plt.subplots(figsize=(15,10))\n",
    "y.plot(color=red, label='Inflation')\n",
    "fitted_ses.plot(color='black', label='Simple exponential smoothing fit', alpha=0.6)\n",
    "ax.set_xlabel('')\n",
    "ax.set_ylabel('Total de Minutos Salientes')\n",
    "ax.set_title('Telefonía movil')\n",
    "ax.set_xticks([], minor=True) \n",
    "plt.legend(loc='best')\n",
    "sns.despine()\n",
    "plt.show()"
   ]
  },
  {
   "cell_type": "markdown",
   "metadata": {},
   "source": [
    "## Análisis de Residuo"
   ]
  },
  {
   "cell_type": "code",
   "execution_count": 19,
   "metadata": {},
   "outputs": [],
   "source": [
    "resid=y-fitted_ses # model_ses.resid isn't a panda.Series, so no index, no plot"
   ]
  },
  {
   "cell_type": "code",
   "execution_count": 26,
   "metadata": {},
   "outputs": [
    {
     "data": {
      "text/plain": [
       "2013Q1    1.584640e+07\n",
       "2013Q2    1.558266e+07\n",
       "2013Q3    1.615535e+07\n",
       "2013Q4    1.697981e+07\n",
       "2014Q1    1.647269e+07\n",
       "2014Q2    1.617235e+07\n",
       "2014Q3    1.677179e+07\n",
       "2014Q4    1.783688e+07\n",
       "2015Q1    1.855812e+07\n",
       "2015Q2    1.756327e+07\n",
       "2015Q3    1.769732e+07\n",
       "2015Q4    1.839658e+07\n",
       "2016Q1    1.884293e+07\n",
       "2016Q2    1.831621e+07\n",
       "2016Q3    1.829170e+07\n",
       "2016Q4    1.868291e+07\n",
       "2017Q1    2.100790e+07\n",
       "2017Q2    2.091546e+07\n",
       "2017Q3    2.129771e+07\n",
       "2017Q4    2.136219e+07\n",
       "2018Q1    2.036039e+07\n",
       "2018Q2    2.005690e+07\n",
       "Freq: Q-DEC, dtype: float64"
      ]
     },
     "execution_count": 26,
     "metadata": {},
     "output_type": "execute_result"
    }
   ],
   "source": [
    "fitted_ses"
   ]
  },
  {
   "cell_type": "markdown",
   "metadata": {},
   "source": [
    "The following cells compute the diagnostics. We find that the residuals are uncorrelated, have non-constant variance (due to higher volatitility in the 80s), and are non-Gaussian. "
   ]
  },
  {
   "cell_type": "code",
   "execution_count": 20,
   "metadata": {},
   "outputs": [
    {
     "data": {
      "image/png": "[encoded data removed]",
      "text/plain": [
       "<Figure size 576x360 with 1 Axes>"
      ]
     },
     "metadata": {
      "needs_background": "light"
     },
     "output_type": "display_data"
    }
   ],
   "source": [
    "fig, ax= plt.subplots(figsize=(8,5))\n",
    "resid.plot(color=blue)\n",
    "ax.set_xlabel('')\n",
    "ax.set_xticks([], minor=True) \n",
    "ax.set_title('Residual plot')\n",
    "sns.despine()\n",
    "plt.show()"
   ]
  },
  {
   "cell_type": "markdown",
   "metadata": {},
   "source": [
    "Next is the residual ACF plot aka correlogram"
   ]
  },
  {
   "cell_type": "code",
   "execution_count": 21,
   "metadata": {},
   "outputs": [
    {
     "data": {
      "image/png": "[encoded data removed]",
      "text/plain": [
       "<Figure size 576x360 with 1 Axes>"
      ]
     },
     "metadata": {
      "needs_background": "light"
     },
     "output_type": "display_data"
    }
   ],
   "source": [
    "fig, ax = plt.subplots(figsize=(8,5))\n",
    "sm.graphics.tsa.plot_acf(resid, lags=20, ax=ax)\n",
    "sns.despine()\n",
    "plt.show()"
   ]
  },
  {
   "cell_type": "markdown",
   "metadata": {},
   "source": [
    "Plotting histogram (in blue) and kernel density estimation (in black) for the residuals"
   ]
  },
  {
   "cell_type": "code",
   "execution_count": 22,
   "metadata": {},
   "outputs": [
    {
     "name": "stderr",
     "output_type": "stream",
     "text": [
      "C:\\ProgramData\\Anaconda3\\lib\\site-packages\\scipy\\stats\\stats.py:1713: FutureWarning: Using a non-tuple sequence for multidimensional indexing is deprecated; use `arr[tuple(seq)]` instead of `arr[seq]`. In the future this will be interpreted as an array index, `arr[np.array(seq)]`, which will result either in an error or a different result.\n",
      "  return np.add.reduce(sorted[indexer] * weights, axis=axis) / sumval\n"
     ]
    },
    {
     "data": {
      "image/png": "[encoded data removed]",
      "text/plain": [
       "<Figure size 576x360 with 1 Axes>"
      ]
     },
     "metadata": {
      "needs_background": "light"
     },
     "output_type": "display_data"
    }
   ],
   "source": [
    "def hist(series):\n",
    "    fig, ax= plt.subplots(figsize=(8,5))\n",
    "    sns.distplot(series, ax=ax, hist_kws={'alpha': 0.6, 'edgecolor':'black', 'color': blue},  \n",
    "                 kde_kws={'color': 'black', 'alpha': 0.7})\n",
    "    sns.despine()\n",
    "    return fig, ax\n",
    "\n",
    "hist(resid)\n",
    "plt.show()"
   ]
  },
  {
   "cell_type": "markdown",
   "metadata": {},
   "source": [
    "## Model validation"
   ]
  },
  {
   "cell_type": "code",
   "execution_count": 23,
   "metadata": {},
   "outputs": [
    {
     "data": {
      "text/html": [
       "<div>\n",
       "<style scoped>\n",
       "    .dataframe tbody tr th:only-of-type {\n",
       "        vertical-align: middle;\n",
       "    }\n",
       "\n",
       "    .dataframe tbody tr th {\n",
       "        vertical-align: top;\n",
       "    }\n",
       "\n",
       "    .dataframe thead th {\n",
       "        text-align: right;\n",
       "    }\n",
       "</style>\n",
       "<table border=\"1\" class=\"dataframe\">\n",
       "  <thead>\n",
       "    <tr style=\"text-align: right;\">\n",
       "      <th></th>\n",
       "      <th>RW</th>\n",
       "      <th>SES</th>\n",
       "      <th>Actual</th>\n",
       "    </tr>\n",
       "  </thead>\n",
       "  <tbody>\n",
       "    <tr>\n",
       "      <th>2017Q2</th>\n",
       "      <td>20840252.0</td>\n",
       "      <td>2.089379e+07</td>\n",
       "      <td>21608730.0</td>\n",
       "    </tr>\n",
       "    <tr>\n",
       "      <th>2017Q3</th>\n",
       "      <td>21608730.0</td>\n",
       "      <td>2.137993e+07</td>\n",
       "      <td>21414647.0</td>\n",
       "    </tr>\n",
       "    <tr>\n",
       "      <th>2017Q4</th>\n",
       "      <td>21414647.0</td>\n",
       "      <td>2.140175e+07</td>\n",
       "      <td>19545262.0</td>\n",
       "    </tr>\n",
       "    <tr>\n",
       "      <th>2018Q1</th>\n",
       "      <td>19545262.0</td>\n",
       "      <td>2.030973e+07</td>\n",
       "      <td>19809971.0</td>\n",
       "    </tr>\n",
       "    <tr>\n",
       "      <th>2018Q2</th>\n",
       "      <td>19809971.0</td>\n",
       "      <td>1.998468e+07</td>\n",
       "      <td>20678910.0</td>\n",
       "    </tr>\n",
       "  </tbody>\n",
       "</table>\n",
       "</div>"
      ],
      "text/plain": [
       "                RW           SES      Actual\n",
       "2017Q2  20840252.0  2.089379e+07  21608730.0\n",
       "2017Q3  21608730.0  2.137993e+07  21414647.0\n",
       "2017Q4  21414647.0  2.140175e+07  19545262.0\n",
       "2018Q1  19545262.0  2.030973e+07  19809971.0\n",
       "2018Q2  19809971.0  1.998468e+07  20678910.0"
      ]
     },
     "execution_count": 23,
     "metadata": {},
     "output_type": "execute_result"
    }
   ],
   "source": [
    "# Real time forecasting - use it as a template - expanding window\n",
    "\n",
    "validation=y['2017Q1':].index # the validation period is Q1 2004 onwards\n",
    "start = y.index.get_loc('2017Q1') # numerical index corresponding to Q1 2005\n",
    "\n",
    "pred1 = []\n",
    "pred2 = []\n",
    "actual= []\n",
    "for i in range(start, len(y)):\n",
    "    \n",
    "    actual.append(y.iloc[i]) # actual value\n",
    "    \n",
    "    pred1.append(y.iloc[i-1]) # random walk forecast\n",
    "    \n",
    "    model = sm.tsa.SimpleExpSmoothing(y.iloc[:i]).fit() \n",
    "    pred2.append(model.forecast(1)[0]) # SES forecast\n",
    "\n",
    "columns=['RW', 'SES', 'Actual']\n",
    "results_sm = np.vstack([pred1,pred2,actual]).T\n",
    "results_sm = pd.DataFrame(results_sm, columns=columns, index=validation)\n",
    "results_sm.tail()"
   ]
  },
  {
   "cell_type": "markdown",
   "metadata": {},
   "source": [
    "We find that simple exponential smoothing generates more accurate forecasts. "
   ]
  },
  {
   "cell_type": "code",
   "execution_count": 24,
   "metadata": {},
   "outputs": [
    {
     "data": {
      "text/html": [
       "<div>\n",
       "<style scoped>\n",
       "    .dataframe tbody tr th:only-of-type {\n",
       "        vertical-align: middle;\n",
       "    }\n",
       "\n",
       "    .dataframe tbody tr th {\n",
       "        vertical-align: top;\n",
       "    }\n",
       "\n",
       "    .dataframe thead th {\n",
       "        text-align: right;\n",
       "    }\n",
       "</style>\n",
       "<table border=\"1\" class=\"dataframe\">\n",
       "  <thead>\n",
       "    <tr style=\"text-align: right;\">\n",
       "      <th></th>\n",
       "      <th>RMSE</th>\n",
       "      <th>SE</th>\n",
       "    </tr>\n",
       "  </thead>\n",
       "  <tbody>\n",
       "    <tr>\n",
       "      <th>RW</th>\n",
       "      <td>1237544.45</td>\n",
       "      <td>528114.428</td>\n",
       "    </tr>\n",
       "    <tr>\n",
       "      <th>SES</th>\n",
       "      <td>1220093.60</td>\n",
       "      <td>498660.871</td>\n",
       "    </tr>\n",
       "  </tbody>\n",
       "</table>\n",
       "</div>"
      ],
      "text/plain": [
       "           RMSE          SE\n",
       "RW   1237544.45  528114.428\n",
       "SES  1220093.60  498660.871"
      ]
     },
     "execution_count": 24,
     "metadata": {},
     "output_type": "execute_result"
    }
   ],
   "source": [
    "from scipy import stats\n",
    "\n",
    "table = pd.DataFrame(0.0, index=results_sm.columns[:-1], columns=['RMSE','SE'])\n",
    "for i in range(2):\n",
    "    table.iloc[i,0] = sm.tools.eval_measures.rmse(results_sm.iloc[:,i], results_sm.iloc[:,-1])\n",
    "    table.iloc[i,1] = (results_sm.iloc[:,i] - results_sm.iloc[:,-1]).sem()\n",
    "table.round(3)"
   ]
  },
  {
   "cell_type": "markdown",
   "metadata": {},
   "source": [
    "## Forecast\n",
    "\n",
    "We show how to do expanding and rolling point forecast. "
   ]
  },
  {
   "cell_type": "code",
   "execution_count": 25,
   "metadata": {},
   "outputs": [
    {
     "data": {
      "image/png": "[encoded data removed]",
      "text/plain": [
       "<Figure size 720x432 with 1 Axes>"
      ]
     },
     "metadata": {
      "needs_background": "light"
     },
     "output_type": "display_data"
    }
   ],
   "source": [
    "h=3\n",
    "w=h*2\n",
    "data = y\n",
    "model = sm.tsa.SimpleExpSmoothing\n",
    "pred_index = y.index[-1] + np.array(range(1,h+1))\n",
    "pred_rolling = pd.Series(0,index=pred_index)\n",
    "pred_expanding = pd.Series(0,index=pred_index)\n",
    "orig_fit = None\n",
    "for i in range(0,h):\n",
    "    current = pd.concat([data, pred_expanding.head(i)])\n",
    "    expanding = model(current).fit()\n",
    "    if i==0:\n",
    "        orig_fit = expanding.fittedvalues\n",
    "    rolling = model(current.tail(w)).fit()\n",
    "    pred_expanding.update(expanding.forecast(1))\n",
    "    pred_rolling.update(rolling.forecast(1))\n",
    "ax = data[-w:].plot(color='red',figsize=(10,6))\n",
    "pd.concat([orig_fit[-w:],pred_expanding]).plot(ax=ax,color='blue');\n",
    "pd.concat([orig_fit[-w:],pred_rolling]).plot(ax=ax,color='green');"
   ]
  }
 ],
 "metadata": {
  "kernelspec": {
   "display_name": "Python 3",
   "language": "python",
   "name": "python3"
  },
  "language_info": {
   "codemirror_mode": {
    "name": "ipython",
    "version": 3
   },
   "file_extension": ".py",
   "mimetype": "text/x-python",
   "name": "python",
   "nbconvert_exporter": "python",
   "pygments_lexer": "ipython3",
   "version": "3.7.0"
  }
 },
 "nbformat": 4,
 "nbformat_minor": 2
}
